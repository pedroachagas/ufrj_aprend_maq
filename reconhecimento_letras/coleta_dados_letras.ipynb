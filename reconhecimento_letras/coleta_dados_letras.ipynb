{
 "cells": [
  {
   "cell_type": "markdown",
   "metadata": {
    "id": "Bih44RUMn95U"
   },
   "source": [
    "# Coleta e preparação dos dados das imagens de letras"
   ]
  },
  {
   "cell_type": "markdown",
   "metadata": {
    "id": "Q3Mu2eC2n95W"
   },
   "source": [
    "Primeiro precisamos importar as bibliotecas que iremos utilizar:"
   ]
  },
  {
   "cell_type": "code",
   "execution_count": 70,
   "metadata": {
    "execution": {
     "iopub.execute_input": "2022-09-12T14:15:10.095257Z",
     "iopub.status.busy": "2022-09-12T14:15:10.094974Z",
     "iopub.status.idle": "2022-09-12T14:15:10.160181Z",
     "shell.execute_reply": "2022-09-12T14:15:10.159482Z",
     "shell.execute_reply.started": "2022-09-12T14:15:10.095237Z"
    },
    "id": "5QhzOQDLn95Y",
    "tags": []
   },
   "outputs": [],
   "source": [
    "import os\n",
    "import pandas as pd\n",
    "import numpy as np\n",
    "import cv2\n",
    "import matplotlib.pyplot as plt\n",
    "from typing import Tuple\n",
    "\n",
    "def crop_image(filename, pixel_value=255):\n",
    "    gray = cv2.imread(filename, cv2.IMREAD_GRAYSCALE)\n",
    "    crop_rows = gray[~np.all(gray == pixel_value, axis=1), :]\n",
    "    cropped_image = crop_rows[:, ~np.all(crop_rows == pixel_value, axis=0)]\n",
    "    return cropped_image\n",
    "\n",
    "def resize_with_pad(image: np.array, \n",
    "                    new_shape: Tuple[int, int], \n",
    "                    padding_color: Tuple[int] = (255, 255, 255)):\n",
    "    image = cv2.imread(image, cv2.IMREAD_GRAYSCALE)\n",
    "    original_shape = (image.shape[1], image.shape[0])\n",
    "    ratio = float(max(new_shape))/max(original_shape)\n",
    "    new_size = tuple([int(x*ratio) for x in original_shape])\n",
    "    image = cv2.resize(image, new_size)\n",
    "    delta_w = new_shape[0] - new_size[0]\n",
    "    delta_h = new_shape[1] - new_size[1]\n",
    "    top, bottom = delta_h//2, delta_h-(delta_h//2)\n",
    "    left, right = delta_w//2, delta_w-(delta_w//2)\n",
    "    image = cv2.copyMakeBorder(image, top, bottom, left, right, cv2.BORDER_CONSTANT, value=padding_color)\n",
    "    return image\n",
    "\n",
    "def zoom(img, zoom_factor=1.2):\n",
    "    return cv2.resize(img, None, fx=zoom_factor, fy=zoom_factor)"
   ]
  },
  {
   "cell_type": "code",
   "execution_count": 71,
   "metadata": {},
   "outputs": [],
   "source": [
    "path_of_the_directory= 'Img/'\n",
    "file_names = []\n",
    "for filename in os.listdir(path_of_the_directory):\n",
    "    f = os.path.join(path_of_the_directory,filename)\n",
    "    if os.path.isfile(f):\n",
    "        file_names.append(f)\n",
    "file_names.sort()\n",
    "\n",
    "labels = pd.read_csv('english.csv')"
   ]
  },
  {
   "cell_type": "code",
   "execution_count": 72,
   "metadata": {},
   "outputs": [],
   "source": [
    "image_data = {}\n",
    "for image in file_names:\n",
    "    img = zoom(resize_with_pad(image, (100,100)), 1.5)[25:125,25:125]\n",
    "    #img = crop_image(image) # The image pixels have range [0, 255]\n",
    "    #resized = cv2.resize(img, (100,100), interpolation = cv2.INTER_AREA)\n",
    "    img_list = np.array(img.tolist()).flatten() # We have a list of lists of pixellens\n",
    "    image_data[image] = img_list\n",
    "\n",
    "df = pd.DataFrame(image_data).T"
   ]
  },
  {
   "cell_type": "code",
   "execution_count": 73,
   "metadata": {},
   "outputs": [
    {
     "data": {
      "text/plain": [
       "<matplotlib.image.AxesImage at 0x7f7a5c9dd630>"
      ]
     },
     "execution_count": 73,
     "metadata": {},
     "output_type": "execute_result"
    },
    {
     "data": {
      "image/png": "[encoded data removed]",
      "text/plain": [
       "<Figure size 640x480 with 1 Axes>"
      ]
     },
     "metadata": {},
     "output_type": "display_data"
    }
   ],
   "source": [
    "data = df.copy()\n",
    "plt.imshow(data.values[1].reshape(100,100));"
   ]
  },
  {
   "cell_type": "code",
   "execution_count": 74,
   "metadata": {
    "notebookRunGroups": {
     "groupValue": "1"
    }
   },
   "outputs": [],
   "source": [
    "df_0 = df.reset_index()\n",
    "df_0.rename(columns={'index':'image'}, inplace=True)\n",
    "labelled_data = labels.merge(df_0, how='inner', on='image')"
   ]
  },
  {
   "cell_type": "code",
   "execution_count": 77,
   "metadata": {},
   "outputs": [],
   "source": [
    "labelled_data.drop(columns='image', inplace=True)\n",
    "labelled_data.to_csv('letter_data.csv')"
   ]
  }
 ],
 "metadata": {
  "colab": {
   "provenance": []
  },
  "kernelspec": {
   "display_name": "Python 3.10.6 64-bit ('3.10.6')",
   "language": "python",
   "name": "python3"
  },
  "language_info": {
   "codemirror_mode": {
    "name": "ipython",
    "version": 3
   },
   "file_extension": ".py",
   "mimetype": "text/x-python",
   "name": "python",
   "nbconvert_exporter": "python",
   "pygments_lexer": "ipython3",
   "version": "3.10.6"
  },
  "vscode": {
   "interpreter": {
    "hash": "4ac27d9ef821916b92a19ec02496069358088582005b362b56a5303f2321296a"
   }
  }
 },
 "nbformat": 4,
 "nbformat_minor": 4
}
