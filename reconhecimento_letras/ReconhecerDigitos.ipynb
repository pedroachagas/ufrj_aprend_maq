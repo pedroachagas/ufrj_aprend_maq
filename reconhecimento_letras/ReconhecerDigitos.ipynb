{
 "cells": [
  {
   "cell_type": "markdown",
   "metadata": {
    "id": "Bih44RUMn95U"
   },
   "source": [
    "# Aprendizado de Máquina\n",
    "__UFRJ-Macaé__\n",
    "\n",
    "__Profa. Janaína Gomide__\n",
    "\n",
    "## Reconhecendo Dígitos"
   ]
  },
  {
   "cell_type": "markdown",
   "metadata": {
    "id": "Q3Mu2eC2n95W"
   },
   "source": [
    "Primeiro precisamos importar as bibliotecas que iremos utilizar:"
   ]
  },
  {
   "cell_type": "code",
   "execution_count": 1,
   "metadata": {
    "execution": {
     "iopub.execute_input": "2022-09-12T14:15:10.095257Z",
     "iopub.status.busy": "2022-09-12T14:15:10.094974Z",
     "iopub.status.idle": "2022-09-12T14:15:10.160181Z",
     "shell.execute_reply": "2022-09-12T14:15:10.159482Z",
     "shell.execute_reply.started": "2022-09-12T14:15:10.095237Z"
    },
    "id": "5QhzOQDLn95Y",
    "tags": []
   },
   "outputs": [],
   "source": [
    "import pandas as pd\n",
    "import numpy as np\n",
    "import matplotlib.pyplot as plt\n",
    "import seaborn as sns\n",
    "\n",
    "from sklearn import svm\n",
    "from sklearn import metrics\n",
    "from sklearn.model_selection import KFold\n",
    "from sklearn import cluster"
   ]
  },
  {
   "cell_type": "markdown",
   "metadata": {
    "id": "7mwJlX6On95g"
   },
   "source": [
    "### 1 - Coletar os dados"
   ]
  },
  {
   "cell_type": "markdown",
   "metadata": {
    "id": "xGeYbH_Vn95h"
   },
   "source": [
    "Informações sobre o conjunto de dados:\n",
    "1. O conjunto de dados se chama **'DigitsCollection.csv'** e seus elementos são separados por **vírgula** e não há elementos vazios\n",
    "2. O conjunto de dados contém imagens em nível de cinza de **dígitos** manuscritos **de 0 a 9**\n",
    "2. Cada imagem tem altura e largura de 28 pixels cada, totalizando **784 pixels**\n",
    "3. Cada pixel tem um valor associado que vai de **0 a 255** (inclusivo), indicando o quão claro ou escuro é o pixel\n",
    "4. O Banco de dados tem **785 colunas**, a primeira identifica a **classe** da imagem (se é 0,1,2,...) e as outras 784 correspondem aos seus pixels\n",
    "5. Cada coluna de pixel tem um nome pixelX, onde X é um número de 0 a 783 (inclusivo).\n",
    "6. Para localizar o pixel na imagem, basta considerar X = $i\\times28+j$, onde $i$ e $j$ são inteiros de 0 a 27 (inclusivo). Então pixelX está na linha $i$ e coluna $j$ de uma matriz 28 x 28.\n",
    "$$\\begin{array}{rrrrrr}\n",
    "0 & 1 & 2 & \\dots & 26 & 27\\\\\n",
    "28 & 29 & 30 & \\dots & 54 & 55\\\\\n",
    "56 & 57 & 58 & \\dots & 82 & 83\\\\\n",
    "\\vdots & \\vdots & \\vdots & \\ddots & \\vdots & \\vdots\\\\\n",
    "728 & 729 & 730 & \\dots & 754 & 755\\\\\n",
    "756 & 757 & 758 & \\dots & 782 & 783\n",
    "\\end{array}$$"
   ]
  },
  {
   "cell_type": "code",
   "execution_count": 2,
   "metadata": {
    "execution": {
     "iopub.execute_input": "2022-09-12T14:13:28.350660Z",
     "iopub.status.busy": "2022-09-12T14:13:28.350441Z",
     "iopub.status.idle": "2022-09-12T14:13:28.493654Z",
     "shell.execute_reply": "2022-09-12T14:13:28.493260Z",
     "shell.execute_reply.started": "2022-09-12T14:13:28.350647Z"
    },
    "id": "7Dhon9rdn95j"
   },
   "outputs": [
    {
     "data": {
      "text/html": [
       "<div>\n",
       "<style scoped>\n",
       "    .dataframe tbody tr th:only-of-type {\n",
       "        vertical-align: middle;\n",
       "    }\n",
       "\n",
       "    .dataframe tbody tr th {\n",
       "        vertical-align: top;\n",
       "    }\n",
       "\n",
       "    .dataframe thead th {\n",
       "        text-align: right;\n",
       "    }\n",
       "</style>\n",
       "<table border=\"1\" class=\"dataframe\">\n",
       "  <thead>\n",
       "    <tr style=\"text-align: right;\">\n",
       "      <th></th>\n",
       "      <th>label</th>\n",
       "      <th>pixel0</th>\n",
       "      <th>pixel1</th>\n",
       "      <th>pixel2</th>\n",
       "      <th>pixel3</th>\n",
       "      <th>pixel4</th>\n",
       "      <th>pixel5</th>\n",
       "      <th>pixel6</th>\n",
       "      <th>pixel7</th>\n",
       "      <th>pixel8</th>\n",
       "      <th>...</th>\n",
       "      <th>pixel774</th>\n",
       "      <th>pixel775</th>\n",
       "      <th>pixel776</th>\n",
       "      <th>pixel777</th>\n",
       "      <th>pixel778</th>\n",
       "      <th>pixel779</th>\n",
       "      <th>pixel780</th>\n",
       "      <th>pixel781</th>\n",
       "      <th>pixel782</th>\n",
       "      <th>pixel783</th>\n",
       "    </tr>\n",
       "  </thead>\n",
       "  <tbody>\n",
       "    <tr>\n",
       "      <th>0</th>\n",
       "      <td>1</td>\n",
       "      <td>0</td>\n",
       "      <td>0</td>\n",
       "      <td>0</td>\n",
       "      <td>0</td>\n",
       "      <td>0</td>\n",
       "      <td>0</td>\n",
       "      <td>0</td>\n",
       "      <td>0</td>\n",
       "      <td>0</td>\n",
       "      <td>...</td>\n",
       "      <td>0</td>\n",
       "      <td>0</td>\n",
       "      <td>0</td>\n",
       "      <td>0</td>\n",
       "      <td>0</td>\n",
       "      <td>0</td>\n",
       "      <td>0</td>\n",
       "      <td>0</td>\n",
       "      <td>0</td>\n",
       "      <td>0</td>\n",
       "    </tr>\n",
       "    <tr>\n",
       "      <th>1</th>\n",
       "      <td>0</td>\n",
       "      <td>0</td>\n",
       "      <td>0</td>\n",
       "      <td>0</td>\n",
       "      <td>0</td>\n",
       "      <td>0</td>\n",
       "      <td>0</td>\n",
       "      <td>0</td>\n",
       "      <td>0</td>\n",
       "      <td>0</td>\n",
       "      <td>...</td>\n",
       "      <td>0</td>\n",
       "      <td>0</td>\n",
       "      <td>0</td>\n",
       "      <td>0</td>\n",
       "      <td>0</td>\n",
       "      <td>0</td>\n",
       "      <td>0</td>\n",
       "      <td>0</td>\n",
       "      <td>0</td>\n",
       "      <td>0</td>\n",
       "    </tr>\n",
       "    <tr>\n",
       "      <th>2</th>\n",
       "      <td>1</td>\n",
       "      <td>0</td>\n",
       "      <td>0</td>\n",
       "      <td>0</td>\n",
       "      <td>0</td>\n",
       "      <td>0</td>\n",
       "      <td>0</td>\n",
       "      <td>0</td>\n",
       "      <td>0</td>\n",
       "      <td>0</td>\n",
       "      <td>...</td>\n",
       "      <td>0</td>\n",
       "      <td>0</td>\n",
       "      <td>0</td>\n",
       "      <td>0</td>\n",
       "      <td>0</td>\n",
       "      <td>0</td>\n",
       "      <td>0</td>\n",
       "      <td>0</td>\n",
       "      <td>0</td>\n",
       "      <td>0</td>\n",
       "    </tr>\n",
       "    <tr>\n",
       "      <th>3</th>\n",
       "      <td>4</td>\n",
       "      <td>0</td>\n",
       "      <td>0</td>\n",
       "      <td>0</td>\n",
       "      <td>0</td>\n",
       "      <td>0</td>\n",
       "      <td>0</td>\n",
       "      <td>0</td>\n",
       "      <td>0</td>\n",
       "      <td>0</td>\n",
       "      <td>...</td>\n",
       "      <td>0</td>\n",
       "      <td>0</td>\n",
       "      <td>0</td>\n",
       "      <td>0</td>\n",
       "      <td>0</td>\n",
       "      <td>0</td>\n",
       "      <td>0</td>\n",
       "      <td>0</td>\n",
       "      <td>0</td>\n",
       "      <td>0</td>\n",
       "    </tr>\n",
       "    <tr>\n",
       "      <th>4</th>\n",
       "      <td>0</td>\n",
       "      <td>0</td>\n",
       "      <td>0</td>\n",
       "      <td>0</td>\n",
       "      <td>0</td>\n",
       "      <td>0</td>\n",
       "      <td>0</td>\n",
       "      <td>0</td>\n",
       "      <td>0</td>\n",
       "      <td>0</td>\n",
       "      <td>...</td>\n",
       "      <td>0</td>\n",
       "      <td>0</td>\n",
       "      <td>0</td>\n",
       "      <td>0</td>\n",
       "      <td>0</td>\n",
       "      <td>0</td>\n",
       "      <td>0</td>\n",
       "      <td>0</td>\n",
       "      <td>0</td>\n",
       "      <td>0</td>\n",
       "    </tr>\n",
       "  </tbody>\n",
       "</table>\n",
       "<p>5 rows × 785 columns</p>\n",
       "</div>"
      ],
      "text/plain": [
       "   label  pixel0  pixel1  pixel2  pixel3  pixel4  pixel5  pixel6  pixel7  \\\n",
       "0      1       0       0       0       0       0       0       0       0   \n",
       "1      0       0       0       0       0       0       0       0       0   \n",
       "2      1       0       0       0       0       0       0       0       0   \n",
       "3      4       0       0       0       0       0       0       0       0   \n",
       "4      0       0       0       0       0       0       0       0       0   \n",
       "\n",
       "   pixel8  ...  pixel774  pixel775  pixel776  pixel777  pixel778  pixel779  \\\n",
       "0       0  ...         0         0         0         0         0         0   \n",
       "1       0  ...         0         0         0         0         0         0   \n",
       "2       0  ...         0         0         0         0         0         0   \n",
       "3       0  ...         0         0         0         0         0         0   \n",
       "4       0  ...         0         0         0         0         0         0   \n",
       "\n",
       "   pixel780  pixel781  pixel782  pixel783  \n",
       "0         0         0         0         0  \n",
       "1         0         0         0         0  \n",
       "2         0         0         0         0  \n",
       "3         0         0         0         0  \n",
       "4         0         0         0         0  \n",
       "\n",
       "[5 rows x 785 columns]"
      ]
     },
     "execution_count": 2,
     "metadata": {},
     "output_type": "execute_result"
    }
   ],
   "source": [
    "conjuntoDados = pd.read_csv('DigitsCollection.csv',sep=',')\n",
    "conjuntoDados.head(5)"
   ]
  },
  {
   "cell_type": "markdown",
   "metadata": {
    "id": "_gEmvwJ3n95p"
   },
   "source": [
    "### 2 - Explorar os dados"
   ]
  },
  {
   "cell_type": "markdown",
   "metadata": {
    "id": "MUKHFSN0n95q"
   },
   "source": [
    "Vamos explorar algumas coisas no conjunto de dados:\n",
    "1. Quantos exemplos o conjunto de dados possui?\n",
    "2. Quantos exemplos cada classe possui?\n",
    "3. Como são os dígitos que estamos tentando reconhecer?"
   ]
  },
  {
   "cell_type": "code",
   "execution_count": 3,
   "metadata": {
    "execution": {
     "iopub.execute_input": "2022-09-12T14:13:28.494304Z",
     "iopub.status.busy": "2022-09-12T14:13:28.494164Z",
     "iopub.status.idle": "2022-09-12T14:13:28.497569Z",
     "shell.execute_reply": "2022-09-12T14:13:28.497267Z",
     "shell.execute_reply.started": "2022-09-12T14:13:28.494292Z"
    },
    "id": "yAKhS57Jn95s",
    "scrolled": true
   },
   "outputs": [
    {
     "data": {
      "text/plain": [
       "4200"
      ]
     },
     "execution_count": 3,
     "metadata": {},
     "output_type": "execute_result"
    }
   ],
   "source": [
    "#1. Quantos exemplos possui\n",
    "conjuntoDados['label'].count()"
   ]
  },
  {
   "cell_type": "code",
   "execution_count": 4,
   "metadata": {
    "execution": {
     "iopub.execute_input": "2022-09-12T14:13:28.498186Z",
     "iopub.status.busy": "2022-09-12T14:13:28.498030Z",
     "iopub.status.idle": "2022-09-12T14:13:28.514735Z",
     "shell.execute_reply": "2022-09-12T14:13:28.514289Z",
     "shell.execute_reply.started": "2022-09-12T14:13:28.498175Z"
    },
    "id": "PFR0T0NNn95y"
   },
   "outputs": [
    {
     "data": {
      "image/png": "[encoded data removed]",
      "text/plain": [
       "<Figure size 640x480 with 1 Axes>"
      ]
     },
     "metadata": {},
     "output_type": "display_data"
    }
   ],
   "source": [
    "#2. Quantos exemplos cada classe possui\n",
    "conjuntoDados.label.value_counts().plot(kind='bar');"
   ]
  },
  {
   "cell_type": "code",
   "execution_count": 5,
   "metadata": {
    "execution": {
     "iopub.execute_input": "2022-09-12T14:13:28.515557Z",
     "iopub.status.busy": "2022-09-12T14:13:28.515410Z",
     "iopub.status.idle": "2022-09-12T14:13:28.521914Z",
     "shell.execute_reply": "2022-09-12T14:13:28.521441Z",
     "shell.execute_reply.started": "2022-09-12T14:13:28.515546Z"
    },
    "id": "Zyp-K3WDf0Hw"
   },
   "outputs": [
    {
     "data": {
      "text/plain": [
       "0       785\n",
       "1       785\n",
       "2       785\n",
       "3       785\n",
       "4       785\n",
       "       ... \n",
       "4195    785\n",
       "4196    785\n",
       "4197    785\n",
       "4198    785\n",
       "4199    785\n",
       "Length: 4200, dtype: int64"
      ]
     },
     "execution_count": 5,
     "metadata": {},
     "output_type": "execute_result"
    }
   ],
   "source": [
    "pd.isnull(conjuntoDados).count(True)"
   ]
  },
  {
   "cell_type": "code",
   "execution_count": 6,
   "metadata": {
    "execution": {
     "iopub.execute_input": "2022-09-12T14:13:28.522680Z",
     "iopub.status.busy": "2022-09-12T14:13:28.522506Z",
     "iopub.status.idle": "2022-09-12T14:13:28.733138Z",
     "shell.execute_reply": "2022-09-12T14:13:28.732759Z",
     "shell.execute_reply.started": "2022-09-12T14:13:28.522668Z"
    },
    "id": "VTHviCmRn954"
   },
   "outputs": [],
   "source": [
    "#3. Visualizando os dígitos\n",
    "\n",
    "#pegando um exemplo de cada dígito\n",
    "exemplos = {}\n",
    "\n",
    "for digito in range(10):\n",
    "    for indice,linha in conjuntoDados.iterrows():\n",
    "        if digito == linha['label']:\n",
    "            vetorImg = np.zeros((1,784))\n",
    "            j = 0\n",
    "            for pixel in linha.keys()[1:]:\n",
    "                vetorImg[0,j] = linha[pixel]\n",
    "                j+=1\n",
    "            matrizImg = vetorImg.reshape((28,28))\n",
    "            break\n",
    "    exemplos[digito] = matrizImg\n",
    "\n"
   ]
  },
  {
   "cell_type": "markdown",
   "metadata": {
    "id": "MkdJY48xn95_"
   },
   "source": [
    "### 3 - Construir/Escolher Modelo"
   ]
  },
  {
   "cell_type": "markdown",
   "metadata": {
    "id": "53sCgCdkn96B"
   },
   "source": [
    "Vamos usar o classificador *Support Vector Classifier* (SVC) e fazer separação linear"
   ]
  },
  {
   "cell_type": "code",
   "execution_count": 7,
   "metadata": {
    "execution": {
     "iopub.execute_input": "2022-09-12T14:13:28.734396Z",
     "iopub.status.busy": "2022-09-12T14:13:28.734235Z",
     "iopub.status.idle": "2022-09-12T14:13:28.736982Z",
     "shell.execute_reply": "2022-09-12T14:13:28.736577Z",
     "shell.execute_reply.started": "2022-09-12T14:13:28.734383Z"
    },
    "id": "vL_DpkE0n96E"
   },
   "outputs": [],
   "source": [
    "classificador = svm.SVC(kernel='linear')"
   ]
  },
  {
   "cell_type": "markdown",
   "metadata": {
    "id": "pPujXcItn96N"
   },
   "source": [
    "### 4 - Treinar o Modelo"
   ]
  },
  {
   "cell_type": "markdown",
   "metadata": {
    "id": "BEZwxjWsn96O"
   },
   "source": [
    "Primeiro vamos separar o conjunto de dados em dois: **80%** dos dados serão utilizados para o **treino** e **20%** para o **teste**"
   ]
  },
  {
   "cell_type": "code",
   "execution_count": 8,
   "metadata": {
    "execution": {
     "iopub.execute_input": "2022-09-12T14:13:28.737574Z",
     "iopub.status.busy": "2022-09-12T14:13:28.737430Z",
     "iopub.status.idle": "2022-09-12T14:13:28.755765Z",
     "shell.execute_reply": "2022-09-12T14:13:28.755341Z",
     "shell.execute_reply.started": "2022-09-12T14:13:28.737563Z"
    },
    "id": "VsNUu3QGn96P"
   },
   "outputs": [
    {
     "name": "stdout",
     "output_type": "stream",
     "text": [
      "Tamanho do treino: 3360\n",
      "Tamanho do teste: 840\n"
     ]
    }
   ],
   "source": [
    "#Olhar a quantidade de dados e separar 80% para treino e 20% para teste \n",
    "tamanho = conjuntoDados['label'].count()\n",
    "tamanhoTreino = int(tamanho*0.8) #80% para treino\n",
    "tamanhoTeste = tamanho-tamanhoTreino\n",
    "print('Tamanho do treino:',tamanhoTreino)\n",
    "print('Tamanho do teste:',tamanhoTeste)\n",
    "\n",
    "#Separar conjunto de treino e conjunto de teste\n",
    "treinoFeatures,treinoClasses = conjuntoDados[conjuntoDados.columns[1:]].iloc[:tamanhoTreino],conjuntoDados[0:tamanhoTreino]['label'] \n",
    "testeFeatures,testeClasses = conjuntoDados[conjuntoDados.columns[1:]\n",
    "                                          ].iloc[tamanhoTreino:],conjuntoDados[tamanhoTreino:]['label']"
   ]
  },
  {
   "cell_type": "markdown",
   "metadata": {
    "id": "Swk8Xw1Kn96X"
   },
   "source": [
    "Agora iremos treinar o classificador com os dados de treino"
   ]
  },
  {
   "cell_type": "code",
   "execution_count": 9,
   "metadata": {
    "execution": {
     "iopub.execute_input": "2022-09-12T14:13:28.756596Z",
     "iopub.status.busy": "2022-09-12T14:13:28.756269Z",
     "iopub.status.idle": "2022-09-12T14:13:29.336198Z",
     "shell.execute_reply": "2022-09-12T14:13:29.335819Z",
     "shell.execute_reply.started": "2022-09-12T14:13:28.756582Z"
    },
    "id": "PrRTfke_n96Y"
   },
   "outputs": [
    {
     "data": {
      "text/html": [
       "<div>\n",
       "<style scoped>\n",
       "    .dataframe tbody tr th:only-of-type {\n",
       "        vertical-align: middle;\n",
       "    }\n",
       "\n",
       "    .dataframe tbody tr th {\n",
       "        vertical-align: top;\n",
       "    }\n",
       "\n",
       "    .dataframe thead th {\n",
       "        text-align: right;\n",
       "    }\n",
       "</style>\n",
       "<table border=\"1\" class=\"dataframe\">\n",
       "  <thead>\n",
       "    <tr style=\"text-align: right;\">\n",
       "      <th></th>\n",
       "      <th>pixel0</th>\n",
       "      <th>pixel1</th>\n",
       "      <th>pixel2</th>\n",
       "      <th>pixel3</th>\n",
       "      <th>pixel4</th>\n",
       "      <th>pixel5</th>\n",
       "      <th>pixel6</th>\n",
       "      <th>pixel7</th>\n",
       "      <th>pixel8</th>\n",
       "      <th>pixel9</th>\n",
       "      <th>...</th>\n",
       "      <th>pixel774</th>\n",
       "      <th>pixel775</th>\n",
       "      <th>pixel776</th>\n",
       "      <th>pixel777</th>\n",
       "      <th>pixel778</th>\n",
       "      <th>pixel779</th>\n",
       "      <th>pixel780</th>\n",
       "      <th>pixel781</th>\n",
       "      <th>pixel782</th>\n",
       "      <th>pixel783</th>\n",
       "    </tr>\n",
       "  </thead>\n",
       "  <tbody>\n",
       "    <tr>\n",
       "      <th>3360</th>\n",
       "      <td>0</td>\n",
       "      <td>0</td>\n",
       "      <td>0</td>\n",
       "      <td>0</td>\n",
       "      <td>0</td>\n",
       "      <td>0</td>\n",
       "      <td>0</td>\n",
       "      <td>0</td>\n",
       "      <td>0</td>\n",
       "      <td>0</td>\n",
       "      <td>...</td>\n",
       "      <td>61</td>\n",
       "      <td>71</td>\n",
       "      <td>20</td>\n",
       "      <td>0</td>\n",
       "      <td>0</td>\n",
       "      <td>0</td>\n",
       "      <td>0</td>\n",
       "      <td>0</td>\n",
       "      <td>0</td>\n",
       "      <td>0</td>\n",
       "    </tr>\n",
       "    <tr>\n",
       "      <th>3361</th>\n",
       "      <td>0</td>\n",
       "      <td>0</td>\n",
       "      <td>0</td>\n",
       "      <td>0</td>\n",
       "      <td>0</td>\n",
       "      <td>0</td>\n",
       "      <td>0</td>\n",
       "      <td>0</td>\n",
       "      <td>0</td>\n",
       "      <td>0</td>\n",
       "      <td>...</td>\n",
       "      <td>0</td>\n",
       "      <td>0</td>\n",
       "      <td>0</td>\n",
       "      <td>0</td>\n",
       "      <td>0</td>\n",
       "      <td>0</td>\n",
       "      <td>0</td>\n",
       "      <td>0</td>\n",
       "      <td>0</td>\n",
       "      <td>0</td>\n",
       "    </tr>\n",
       "    <tr>\n",
       "      <th>3362</th>\n",
       "      <td>0</td>\n",
       "      <td>0</td>\n",
       "      <td>0</td>\n",
       "      <td>0</td>\n",
       "      <td>0</td>\n",
       "      <td>0</td>\n",
       "      <td>0</td>\n",
       "      <td>0</td>\n",
       "      <td>0</td>\n",
       "      <td>0</td>\n",
       "      <td>...</td>\n",
       "      <td>0</td>\n",
       "      <td>0</td>\n",
       "      <td>0</td>\n",
       "      <td>0</td>\n",
       "      <td>0</td>\n",
       "      <td>0</td>\n",
       "      <td>0</td>\n",
       "      <td>0</td>\n",
       "      <td>0</td>\n",
       "      <td>0</td>\n",
       "    </tr>\n",
       "    <tr>\n",
       "      <th>3363</th>\n",
       "      <td>0</td>\n",
       "      <td>0</td>\n",
       "      <td>0</td>\n",
       "      <td>0</td>\n",
       "      <td>0</td>\n",
       "      <td>0</td>\n",
       "      <td>0</td>\n",
       "      <td>0</td>\n",
       "      <td>0</td>\n",
       "      <td>0</td>\n",
       "      <td>...</td>\n",
       "      <td>0</td>\n",
       "      <td>0</td>\n",
       "      <td>0</td>\n",
       "      <td>0</td>\n",
       "      <td>0</td>\n",
       "      <td>0</td>\n",
       "      <td>0</td>\n",
       "      <td>0</td>\n",
       "      <td>0</td>\n",
       "      <td>0</td>\n",
       "    </tr>\n",
       "    <tr>\n",
       "      <th>3364</th>\n",
       "      <td>0</td>\n",
       "      <td>0</td>\n",
       "      <td>0</td>\n",
       "      <td>0</td>\n",
       "      <td>0</td>\n",
       "      <td>0</td>\n",
       "      <td>0</td>\n",
       "      <td>0</td>\n",
       "      <td>0</td>\n",
       "      <td>0</td>\n",
       "      <td>...</td>\n",
       "      <td>0</td>\n",
       "      <td>0</td>\n",
       "      <td>0</td>\n",
       "      <td>0</td>\n",
       "      <td>0</td>\n",
       "      <td>0</td>\n",
       "      <td>0</td>\n",
       "      <td>0</td>\n",
       "      <td>0</td>\n",
       "      <td>0</td>\n",
       "    </tr>\n",
       "  </tbody>\n",
       "</table>\n",
       "<p>5 rows × 784 columns</p>\n",
       "</div>"
      ],
      "text/plain": [
       "      pixel0  pixel1  pixel2  pixel3  pixel4  pixel5  pixel6  pixel7  pixel8  \\\n",
       "3360       0       0       0       0       0       0       0       0       0   \n",
       "3361       0       0       0       0       0       0       0       0       0   \n",
       "3362       0       0       0       0       0       0       0       0       0   \n",
       "3363       0       0       0       0       0       0       0       0       0   \n",
       "3364       0       0       0       0       0       0       0       0       0   \n",
       "\n",
       "      pixel9  ...  pixel774  pixel775  pixel776  pixel777  pixel778  pixel779  \\\n",
       "3360       0  ...        61        71        20         0         0         0   \n",
       "3361       0  ...         0         0         0         0         0         0   \n",
       "3362       0  ...         0         0         0         0         0         0   \n",
       "3363       0  ...         0         0         0         0         0         0   \n",
       "3364       0  ...         0         0         0         0         0         0   \n",
       "\n",
       "      pixel780  pixel781  pixel782  pixel783  \n",
       "3360         0         0         0         0  \n",
       "3361         0         0         0         0  \n",
       "3362         0         0         0         0  \n",
       "3363         0         0         0         0  \n",
       "3364         0         0         0         0  \n",
       "\n",
       "[5 rows x 784 columns]"
      ]
     },
     "execution_count": 9,
     "metadata": {},
     "output_type": "execute_result"
    }
   ],
   "source": [
    "#Treina o classificador com os dados de treino\n",
    "classificador.fit(treinoFeatures,treinoClasses)\n",
    "testeFeatures.head()\n"
   ]
  },
  {
   "cell_type": "markdown",
   "metadata": {
    "id": "RoXxjEHjn96f"
   },
   "source": [
    "### 5 - Testar e avaliar os resultados"
   ]
  },
  {
   "cell_type": "code",
   "execution_count": 10,
   "metadata": {
    "execution": {
     "iopub.execute_input": "2022-09-12T14:13:29.336878Z",
     "iopub.status.busy": "2022-09-12T14:13:29.336692Z",
     "iopub.status.idle": "2022-09-12T14:13:29.540748Z",
     "shell.execute_reply": "2022-09-12T14:13:29.540311Z",
     "shell.execute_reply.started": "2022-09-12T14:13:29.336866Z"
    },
    "id": "q5WjImPAn96h"
   },
   "outputs": [],
   "source": [
    "#Usa o modelo criado para fazer a predição das classes para exemplos de teste\n",
    "testePrevisao = classificador.predict(testeFeatures)"
   ]
  },
  {
   "cell_type": "code",
   "execution_count": 11,
   "metadata": {
    "execution": {
     "iopub.execute_input": "2022-09-12T14:14:55.117285Z",
     "iopub.status.busy": "2022-09-12T14:14:55.117090Z",
     "iopub.status.idle": "2022-09-12T14:14:55.346419Z",
     "shell.execute_reply": "2022-09-12T14:14:55.345682Z",
     "shell.execute_reply.started": "2022-09-12T14:14:55.117272Z"
    },
    "id": "vMQtuOb6n96o",
    "scrolled": true,
    "tags": []
   },
   "outputs": [
    {
     "data": {
      "text/plain": [
       "<AxesSubplot:>"
      ]
     },
     "execution_count": 11,
     "metadata": {},
     "output_type": "execute_result"
    },
    {
     "data": {
      "image/png": "[encoded data removed]",
      "text/plain": [
       "<Figure size 640x480 with 2 Axes>"
      ]
     },
     "metadata": {},
     "output_type": "display_data"
    }
   ],
   "source": [
    "#Observa o resultado gerado pelo classificador\n",
    "matrizConfusao = metrics.confusion_matrix(testeClasses,testePrevisao)\n",
    "sns.heatmap(matrizConfusao, annot=True)"
   ]
  },
  {
   "cell_type": "code",
   "execution_count": 12,
   "metadata": {
    "execution": {
     "iopub.execute_input": "2022-09-12T14:13:29.546427Z",
     "iopub.status.busy": "2022-09-12T14:13:29.546241Z",
     "iopub.status.idle": "2022-09-12T14:13:29.554342Z",
     "shell.execute_reply": "2022-09-12T14:13:29.553697Z",
     "shell.execute_reply.started": "2022-09-12T14:13:29.546413Z"
    },
    "id": "2GEqwlFdn96u"
   },
   "outputs": [
    {
     "name": "stdout",
     "output_type": "stream",
     "text": [
      "              precision    recall  f1-score   support\n",
      "\n",
      "           0       0.92      0.96      0.94        82\n",
      "           1       0.92      0.98      0.95        85\n",
      "           2       0.93      0.84      0.88        89\n",
      "           3       0.88      0.83      0.85        77\n",
      "           4       0.89      0.92      0.90        85\n",
      "           5       0.78      0.92      0.85        77\n",
      "           6       0.97      0.93      0.95        97\n",
      "           7       0.92      0.92      0.92        88\n",
      "           8       0.94      0.85      0.89        85\n",
      "           9       0.95      0.92      0.93        75\n",
      "\n",
      "    accuracy                           0.91       840\n",
      "   macro avg       0.91      0.91      0.91       840\n",
      "weighted avg       0.91      0.91      0.91       840\n",
      "\n"
     ]
    }
   ],
   "source": [
    "#Relatório de métricas\n",
    "metricas = metrics.classification_report(testeClasses,testePrevisao)\n",
    "print(metricas)"
   ]
  },
  {
   "cell_type": "markdown",
   "metadata": {
    "id": "RlnqjW5Vn963"
   },
   "source": [
    "### Experimento 2 - K-Means Clustering (Não Supervisionado)"
   ]
  },
  {
   "cell_type": "code",
   "execution_count": 13,
   "metadata": {
    "execution": {
     "iopub.execute_input": "2022-09-12T14:13:29.555209Z",
     "iopub.status.busy": "2022-09-12T14:13:29.554985Z",
     "iopub.status.idle": "2022-09-12T14:13:32.703298Z",
     "shell.execute_reply": "2022-09-12T14:13:32.702917Z",
     "shell.execute_reply.started": "2022-09-12T14:13:29.555195Z"
    },
    "id": "53R1rsXQn964"
   },
   "outputs": [
    {
     "data": {
      "text/plain": [
       "(10, 784)"
      ]
     },
     "execution_count": 13,
     "metadata": {},
     "output_type": "execute_result"
    }
   ],
   "source": [
    "estimador = cluster.KMeans(n_clusters=10)\n",
    "\n",
    "treinoFeatures = conjuntoDados.iloc[:,1:]\n",
    "clusters = estimador.fit_predict(treinoFeatures)\n",
    "estimador.cluster_centers_.shape"
   ]
  },
  {
   "cell_type": "code",
   "execution_count": 14,
   "metadata": {
    "execution": {
     "iopub.execute_input": "2022-09-12T14:13:32.704309Z",
     "iopub.status.busy": "2022-09-12T14:13:32.703999Z",
     "iopub.status.idle": "2022-09-12T14:13:32.989317Z",
     "shell.execute_reply": "2022-09-12T14:13:32.988884Z",
     "shell.execute_reply.started": "2022-09-12T14:13:32.704291Z"
    },
    "id": "KnMr5Zg5n97H",
    "tags": []
   },
   "outputs": [
    {
     "data": {
      "image/png": "[encoded data removed]",
      "text/plain": [
       "<Figure size 1200x500 with 10 Axes>"
      ]
     },
     "execution_count": 14,
     "metadata": {},
     "output_type": "execute_result"
    },
    {
     "data": {
      "image/png": "[encoded data removed]",
      "text/plain": [
       "<Figure size 1200x500 with 10 Axes>"
      ]
     },
     "metadata": {},
     "output_type": "display_data"
    }
   ],
   "source": [
    "fig = plt.figure(figsize=(12,5))\n",
    "for i in range(10):\n",
    "    ax = fig.add_subplot(2, 5, 1 + i, xticks=[], yticks=[])\n",
    "    ax.imshow(estimador.cluster_centers_[i].reshape((28, 28)), cmap=plt.cm.binary)\n",
    "fig"
   ]
  }
 ],
 "metadata": {
  "colab": {
   "provenance": []
  },
  "kernelspec": {
   "display_name": "Python 3.10.6 64-bit ('3.10.6')",
   "language": "python",
   "name": "python3"
  },
  "language_info": {
   "codemirror_mode": {
    "name": "ipython",
    "version": 3
   },
   "file_extension": ".py",
   "mimetype": "text/x-python",
   "name": "python",
   "nbconvert_exporter": "python",
   "pygments_lexer": "ipython3",
   "version": "3.10.6"
  },
  "vscode": {
   "interpreter": {
    "hash": "4ac27d9ef821916b92a19ec02496069358088582005b362b56a5303f2321296a"
   }
  }
 },
 "nbformat": 4,
 "nbformat_minor": 4
}
