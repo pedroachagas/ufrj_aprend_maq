{
 "cells": [
  {
   "cell_type": "markdown",
   "metadata": {
    "id": "Bih44RUMn95U"
   },
   "source": [
    "# Aprendizado de Máquina\n",
    "__UFRJ-Macaé__\n",
    "\n",
    "__Profa. Janaína Gomide__\n",
    "\n",
    "## Reconhecendo Dígitos"
   ]
  },
  {
   "cell_type": "markdown",
   "metadata": {
    "id": "Q3Mu2eC2n95W"
   },
   "source": [
    "Primeiro precisamos importar as bibliotecas que iremos utilizar:"
   ]
  },
  {
   "cell_type": "code",
   "execution_count": null,
   "metadata": {
    "execution": {
     "iopub.execute_input": "2022-09-12T14:15:10.095257Z",
     "iopub.status.busy": "2022-09-12T14:15:10.094974Z",
     "iopub.status.idle": "2022-09-12T14:15:10.160181Z",
     "shell.execute_reply": "2022-09-12T14:15:10.159482Z",
     "shell.execute_reply.started": "2022-09-12T14:15:10.095237Z"
    },
    "id": "5QhzOQDLn95Y",
    "tags": []
   },
   "outputs": [],
   "source": [
    "import pandas as pd\n",
    "import numpy as np\n",
    "import matplotlib.pyplot as plt\n",
    "from IPython.core.display import HTML\n",
    "import seaborn as sns\n",
    "\n",
    "from matplotlib.image import imread \n",
    "from PIL import Image\n",
    "\n",
    "from sklearn import svm\n",
    "from sklearn import metrics\n",
    "from sklearn.model_selection import KFold\n",
    "from sklearn import cluster"
   ]
  },
  {
   "cell_type": "code",
   "execution_count": null,
   "metadata": {},
   "outputs": [],
   "source": [
    "def jupyter_settings():\n",
    "    %matplotlib inline\n",
    "\n",
    "    plt.style.use('bmh')\n",
    "    plt.rcParams['figure.figsize'] = [25, 12]\n",
    "    plt.rcParams['font.size'] = 24\n",
    "\n",
    "    display(HTML('<style>.conteiner{width:100% !important;}</style>'))\n",
    "\n",
    "    pd.options.display.max_columns = None\n",
    "    pd.options.display.max_rows = None\n",
    "    pd.set_option('display.expand_frame_repr', False)\n",
    "    # configura o pandas para quantidade de casas decimeis\n",
    "    pd.set_option('display.float_format', lambda x: '%.2f' % x)\n",
    "\n",
    "    sns.set()\n",
    "jupyter_settings()"
   ]
  },
  {
   "cell_type": "markdown",
   "metadata": {
    "id": "7mwJlX6On95g"
   },
   "source": [
    "### 1 - Coletar os dados"
   ]
  },
  {
   "cell_type": "code",
   "execution_count": null,
   "metadata": {},
   "outputs": [],
   "source": [
    "path_of_the_directory= 'Img/'\n",
    "file_names = []\n",
    "for filename in os.listdir(path_of_the_directory):\n",
    "    f = os.path.join(path_of_the_directory,filename)\n",
    "    if os.path.isfile(f):\n",
    "        file_names.append(f)\n",
    "file_names.sort()\n",
    "file_names"
   ]
  },
  {
   "cell_type": "code",
   "execution_count": null,
   "metadata": {},
   "outputs": [],
   "source": [
    "labels = pd.read_csv('english.csv')\n",
    "labels.sample(10)"
   ]
  },
  {
   "cell_type": "code",
   "execution_count": null,
   "metadata": {},
   "outputs": [],
   "source": [
    "import cv2\n",
    "\n",
    "image_data = {}\n",
    "for image in file_names:\n",
    "    img = cv2.imread(image, cv2.IMREAD_GRAYSCALE) # The image pixels have range [0, 255] # Now the pixels have range [0, 1] \n",
    "    resized = cv2.resize(img, (28,28), interpolation = cv2.INTER_AREA)\n",
    "    img_list = np.array(resized.tolist()).flatten() # We have a list of lists of pixellens\n",
    "    image_data[image] = img_list\n",
    "\n",
    "df= pd.DataFrame(image_data)\n"
   ]
  },
  {
   "cell_type": "code",
   "execution_count": null,
   "metadata": {},
   "outputs": [],
   "source": [
    "df_T = df.T.reset_index()\n",
    "df_T"
   ]
  },
  {
   "cell_type": "code",
   "execution_count": null,
   "metadata": {},
   "outputs": [],
   "source": [
    "letter_data = labels.merge(df_T, how='inner', left_on='image', right_on='index')"
   ]
  },
  {
   "cell_type": "code",
   "execution_count": null,
   "metadata": {},
   "outputs": [],
   "source": [
    "conjuntoDados = letter_data.drop(columns='image')"
   ]
  },
  {
   "cell_type": "markdown",
   "metadata": {
    "id": "_gEmvwJ3n95p"
   },
   "source": [
    "### 2 - Explorar os dados"
   ]
  },
  {
   "cell_type": "markdown",
   "metadata": {
    "id": "MUKHFSN0n95q"
   },
   "source": [
    "Vamos explorar algumas coisas no conjunto de dados:\n",
    "1. Quantos exemplos o conjunto de dados possui?\n",
    "2. Quantos exemplos cada classe possui?\n",
    "3. Como são os dígitos que estamos tentando reconhecer?"
   ]
  },
  {
   "cell_type": "code",
   "execution_count": null,
   "metadata": {
    "execution": {
     "iopub.execute_input": "2022-09-12T14:13:28.494304Z",
     "iopub.status.busy": "2022-09-12T14:13:28.494164Z",
     "iopub.status.idle": "2022-09-12T14:13:28.497569Z",
     "shell.execute_reply": "2022-09-12T14:13:28.497267Z",
     "shell.execute_reply.started": "2022-09-12T14:13:28.494292Z"
    },
    "id": "yAKhS57Jn95s",
    "scrolled": true
   },
   "outputs": [],
   "source": [
    "#1. Quantos exemplos possui\n",
    "conjuntoDados['label'].count()"
   ]
  },
  {
   "cell_type": "code",
   "execution_count": null,
   "metadata": {
    "execution": {
     "iopub.execute_input": "2022-09-12T14:13:28.498186Z",
     "iopub.status.busy": "2022-09-12T14:13:28.498030Z",
     "iopub.status.idle": "2022-09-12T14:13:28.514735Z",
     "shell.execute_reply": "2022-09-12T14:13:28.514289Z",
     "shell.execute_reply.started": "2022-09-12T14:13:28.498175Z"
    },
    "id": "PFR0T0NNn95y"
   },
   "outputs": [],
   "source": [
    "#2. Quantos exemplos cada classe possui\n",
    "conjuntoDados.label.value_counts().plot(kind='bar');"
   ]
  },
  {
   "cell_type": "code",
   "execution_count": null,
   "metadata": {
    "execution": {
     "iopub.execute_input": "2022-09-12T14:13:28.515557Z",
     "iopub.status.busy": "2022-09-12T14:13:28.515410Z",
     "iopub.status.idle": "2022-09-12T14:13:28.521914Z",
     "shell.execute_reply": "2022-09-12T14:13:28.521441Z",
     "shell.execute_reply.started": "2022-09-12T14:13:28.515546Z"
    },
    "id": "Zyp-K3WDf0Hw"
   },
   "outputs": [],
   "source": [
    "pd.isnull(conjuntoDados).count(True)"
   ]
  },
  {
   "cell_type": "code",
   "execution_count": null,
   "metadata": {
    "execution": {
     "iopub.execute_input": "2022-09-12T14:13:28.522680Z",
     "iopub.status.busy": "2022-09-12T14:13:28.522506Z",
     "iopub.status.idle": "2022-09-12T14:13:28.733138Z",
     "shell.execute_reply": "2022-09-12T14:13:28.732759Z",
     "shell.execute_reply.started": "2022-09-12T14:13:28.522668Z"
    },
    "id": "VTHviCmRn954"
   },
   "outputs": [],
   "source": [
    "#3. Visualizando os dígitos\n",
    "\n",
    "#pegando um exemplo de cada dígito\n",
    "exemplos = {}\n",
    "\n",
    "for digito in range(len(conjuntoDados.labels)):\n",
    "    for indice,linha in conjuntoDados.iterrows():\n",
    "        if digito == linha['label']:\n",
    "            vetorImg = np.zeros((1,784))\n",
    "            j = 0\n",
    "            for pixel in linha.keys()[1:]:\n",
    "                vetorImg[0,j] = linha[pixel]\n",
    "                j+=1\n",
    "            matrizImg = vetorImg.reshape((28,28))\n",
    "            break\n",
    "    exemplos[digito] = matrizImg\n",
    "\n",
    "#gerando imagem de cada exemplo\n",
    "for digito in range(10):\n",
    "    plt.subplot(2,5, digito+1)\n",
    "    plt.axis('off')\n",
    "    plt.imshow(exemplos[digito], cmap=plt.cm.gray_r, interpolation='nearest')\n",
    "    plt.title('Dígito = %d'%int(digito))\n",
    "plt.show()"
   ]
  },
  {
   "cell_type": "markdown",
   "metadata": {
    "id": "MkdJY48xn95_"
   },
   "source": [
    "### 3 - Construir/Escolher Modelo"
   ]
  },
  {
   "cell_type": "markdown",
   "metadata": {
    "id": "53sCgCdkn96B"
   },
   "source": [
    "Vamos usar o classificador *Support Vector Classifier* (SVC) e fazer separação linear"
   ]
  },
  {
   "cell_type": "code",
   "execution_count": null,
   "metadata": {
    "execution": {
     "iopub.execute_input": "2022-09-12T14:13:28.734396Z",
     "iopub.status.busy": "2022-09-12T14:13:28.734235Z",
     "iopub.status.idle": "2022-09-12T14:13:28.736982Z",
     "shell.execute_reply": "2022-09-12T14:13:28.736577Z",
     "shell.execute_reply.started": "2022-09-12T14:13:28.734383Z"
    },
    "id": "vL_DpkE0n96E"
   },
   "outputs": [],
   "source": [
    "classificador = svm.SVC(kernel='linear')"
   ]
  },
  {
   "cell_type": "markdown",
   "metadata": {
    "id": "pPujXcItn96N"
   },
   "source": [
    "### 4 - Treinar o Modelo"
   ]
  },
  {
   "cell_type": "markdown",
   "metadata": {
    "id": "BEZwxjWsn96O"
   },
   "source": [
    "Primeiro vamos separar o conjunto de dados em dois: **80%** dos dados serão utilizados para o **treino** e **20%** para o **teste**"
   ]
  },
  {
   "cell_type": "code",
   "execution_count": null,
   "metadata": {
    "execution": {
     "iopub.execute_input": "2022-09-12T14:13:28.737574Z",
     "iopub.status.busy": "2022-09-12T14:13:28.737430Z",
     "iopub.status.idle": "2022-09-12T14:13:28.755765Z",
     "shell.execute_reply": "2022-09-12T14:13:28.755341Z",
     "shell.execute_reply.started": "2022-09-12T14:13:28.737563Z"
    },
    "id": "VsNUu3QGn96P"
   },
   "outputs": [],
   "source": [
    "#Olhar a quantidade de dados e separar 80% para treino e 20% para teste \n",
    "tamanho = conjuntoDados['label'].count()\n",
    "tamanhoTreino = int(tamanho*0.8) #80% para treino\n",
    "tamanhoTeste = tamanho-tamanhoTreino\n",
    "print('Tamanho do treino:',tamanhoTreino)\n",
    "print('Tamanho do teste:',tamanhoTeste)\n",
    "\n",
    "#Separar conjunto de treino e conjunto de teste\n",
    "treinoFeatures,treinoClasses = conjuntoDados[conjuntoDados.columns[1:]].iloc[:tamanhoTreino],conjuntoDados[0:tamanhoTreino]['label'] \n",
    "testeFeatures,testeClasses = conjuntoDados[conjuntoDados.columns[1:]\n",
    "                                          ].iloc[tamanhoTreino:],conjuntoDados[tamanhoTreino:]['label']"
   ]
  },
  {
   "cell_type": "markdown",
   "metadata": {
    "id": "Swk8Xw1Kn96X"
   },
   "source": [
    "Agora iremos treinar o classificador com os dados de treino"
   ]
  },
  {
   "cell_type": "code",
   "execution_count": null,
   "metadata": {
    "execution": {
     "iopub.execute_input": "2022-09-12T14:13:28.756596Z",
     "iopub.status.busy": "2022-09-12T14:13:28.756269Z",
     "iopub.status.idle": "2022-09-12T14:13:29.336198Z",
     "shell.execute_reply": "2022-09-12T14:13:29.335819Z",
     "shell.execute_reply.started": "2022-09-12T14:13:28.756582Z"
    },
    "id": "PrRTfke_n96Y"
   },
   "outputs": [],
   "source": [
    "#Treina o classificador com os dados de treino\n",
    "classificador.fit(treinoFeatures,treinoClasses)\n",
    "testeFeatures.head()\n"
   ]
  },
  {
   "cell_type": "markdown",
   "metadata": {
    "id": "RoXxjEHjn96f"
   },
   "source": [
    "### 5 - Testar e avaliar os resultados"
   ]
  },
  {
   "cell_type": "code",
   "execution_count": null,
   "metadata": {
    "execution": {
     "iopub.execute_input": "2022-09-12T14:13:29.336878Z",
     "iopub.status.busy": "2022-09-12T14:13:29.336692Z",
     "iopub.status.idle": "2022-09-12T14:13:29.540748Z",
     "shell.execute_reply": "2022-09-12T14:13:29.540311Z",
     "shell.execute_reply.started": "2022-09-12T14:13:29.336866Z"
    },
    "id": "q5WjImPAn96h"
   },
   "outputs": [],
   "source": [
    "#Usa o modelo criado para fazer a predição das classes para exemplos de teste\n",
    "testePrevisao = classificador.predict(testeFeatures)"
   ]
  },
  {
   "cell_type": "code",
   "execution_count": null,
   "metadata": {
    "execution": {
     "iopub.execute_input": "2022-09-12T14:14:55.117285Z",
     "iopub.status.busy": "2022-09-12T14:14:55.117090Z",
     "iopub.status.idle": "2022-09-12T14:14:55.346419Z",
     "shell.execute_reply": "2022-09-12T14:14:55.345682Z",
     "shell.execute_reply.started": "2022-09-12T14:14:55.117272Z"
    },
    "id": "vMQtuOb6n96o",
    "scrolled": true,
    "tags": []
   },
   "outputs": [],
   "source": [
    "#Observa o resultado gerado pelo classificador\n",
    "matrizConfusao = metrics.confusion_matrix(testeClasses,testePrevisao)\n",
    "sns.heatmap(matrizConfusao, annot=True)"
   ]
  },
  {
   "cell_type": "code",
   "execution_count": null,
   "metadata": {
    "execution": {
     "iopub.execute_input": "2022-09-12T14:13:29.546427Z",
     "iopub.status.busy": "2022-09-12T14:13:29.546241Z",
     "iopub.status.idle": "2022-09-12T14:13:29.554342Z",
     "shell.execute_reply": "2022-09-12T14:13:29.553697Z",
     "shell.execute_reply.started": "2022-09-12T14:13:29.546413Z"
    },
    "id": "2GEqwlFdn96u"
   },
   "outputs": [],
   "source": [
    "#Relatório de métricas\n",
    "metricas = metrics.classification_report(testeClasses,testePrevisao)\n",
    "print(metricas)"
   ]
  },
  {
   "cell_type": "markdown",
   "metadata": {
    "id": "RlnqjW5Vn963"
   },
   "source": [
    "### Experimento 2 - K-Means Clustering (Não Supervisionado)"
   ]
  },
  {
   "cell_type": "code",
   "execution_count": null,
   "metadata": {
    "execution": {
     "iopub.execute_input": "2022-09-12T14:13:29.555209Z",
     "iopub.status.busy": "2022-09-12T14:13:29.554985Z",
     "iopub.status.idle": "2022-09-12T14:13:32.703298Z",
     "shell.execute_reply": "2022-09-12T14:13:32.702917Z",
     "shell.execute_reply.started": "2022-09-12T14:13:29.555195Z"
    },
    "id": "53R1rsXQn964"
   },
   "outputs": [],
   "source": [
    "estimador = cluster.KMeans(n_clusters=10)\n",
    "\n",
    "treinoFeatures = conjuntoDados.iloc[:,1:]\n",
    "clusters = estimador.fit_predict(treinoFeatures)\n",
    "estimador.cluster_centers_.shape"
   ]
  },
  {
   "cell_type": "code",
   "execution_count": null,
   "metadata": {
    "execution": {
     "iopub.execute_input": "2022-09-12T14:13:32.704309Z",
     "iopub.status.busy": "2022-09-12T14:13:32.703999Z",
     "iopub.status.idle": "2022-09-12T14:13:32.989317Z",
     "shell.execute_reply": "2022-09-12T14:13:32.988884Z",
     "shell.execute_reply.started": "2022-09-12T14:13:32.704291Z"
    },
    "id": "KnMr5Zg5n97H",
    "tags": []
   },
   "outputs": [],
   "source": [
    "fig = plt.figure(figsize=(12,5))\n",
    "for i in range(10):\n",
    "    ax = fig.add_subplot(2, 5, 1 + i, xticks=[], yticks=[])\n",
    "    ax.imshow(estimador.cluster_centers_[i].reshape((28, 28)), cmap=plt.cm.binary)\n",
    "fig"
   ]
  }
 ],
 "metadata": {
  "colab": {
   "provenance": []
  },
  "kernelspec": {
   "display_name": "Python 3.10.6 64-bit ('3.10.6')",
   "language": "python",
   "name": "python3"
  },
  "language_info": {
   "codemirror_mode": {
    "name": "ipython",
    "version": 3
   },
   "file_extension": ".py",
   "mimetype": "text/x-python",
   "name": "python",
   "nbconvert_exporter": "python",
   "pygments_lexer": "ipython3",
   "version": "3.10.6"
  },
  "vscode": {
   "interpreter": {
    "hash": "4ac27d9ef821916b92a19ec02496069358088582005b362b56a5303f2321296a"
   }
  }
 },
 "nbformat": 4,
 "nbformat_minor": 4
}
