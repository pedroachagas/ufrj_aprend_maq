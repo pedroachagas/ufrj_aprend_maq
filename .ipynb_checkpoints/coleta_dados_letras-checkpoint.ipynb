{
 "cells": [
  {
   "cell_type": "markdown",
   "metadata": {
    "id": "Bih44RUMn95U"
   },
   "source": [
    "# Coleta e preparação dos dados das imagens de letras"
   ]
  },
  {
   "cell_type": "markdown",
   "metadata": {
    "id": "Q3Mu2eC2n95W"
   },
   "source": [
    "Primeiro precisamos importar as bibliotecas que iremos utilizar:"
   ]
  },
  {
   "cell_type": "code",
   "execution_count": 1,
   "metadata": {
    "execution": {
     "iopub.execute_input": "2022-09-12T14:15:10.095257Z",
     "iopub.status.busy": "2022-09-12T14:15:10.094974Z",
     "iopub.status.idle": "2022-09-12T14:15:10.160181Z",
     "shell.execute_reply": "2022-09-12T14:15:10.159482Z",
     "shell.execute_reply.started": "2022-09-12T14:15:10.095237Z"
    },
    "id": "5QhzOQDLn95Y",
    "tags": []
   },
   "outputs": [],
   "source": [
    "import os\n",
    "import pandas as pd\n",
    "path_of_the_directory= 'Img/'\n",
    "file_names = []\n",
    "for filename in os.listdir(path_of_the_directory):\n",
    "    f = os.path.join(path_of_the_directory,filename)\n",
    "    if os.path.isfile(f):\n",
    "        file_names.append(f)\n",
    "file_names.sort()\n",
    "file_names\n",
    "labels = pd.read_csv('english.csv')\n",
    "labels.sample(10)\n",
    "import cv2\n",
    "\n",
    "image_data = {}\n",
    "for image in file_names:\n",
    "    img = cv2.imread(image, cv2.IMREAD_GRAYSCALE) # The image pixels have range [0, 255] # Now the pixels have range [0, 1] \n",
    "    resized = cv2.resize(img, (28,28), interpolation = cv2.INTER_AREA)\n",
    "    img_list = np.array(resized.tolist()).flatten() # We have a list of lists of pixellens\n",
    "    image_data[image] = img_list\n",
    "\n",
    "df= pd.DataFrame(image_data)\n",
    "df.head()"
   ]
  },
  {
   "cell_type": "code",
   "execution_count": null,
   "metadata": {},
   "outputs": [],
   "source": [
    "#letter_data.to_csv('letter_data.csv')"
   ]
  }
 ],
 "metadata": {
  "colab": {
   "provenance": []
  },
  "kernelspec": {
   "display_name": "Python 3 (ipykernel)",
   "language": "python",
   "name": "python3"
  },
  "language_info": {
   "codemirror_mode": {
    "name": "ipython",
    "version": 3
   },
   "file_extension": ".py",
   "mimetype": "text/x-python",
   "name": "python",
   "nbconvert_exporter": "python",
   "pygments_lexer": "ipython3",
   "version": "3.10.6"
  },
  "vscode": {
   "interpreter": {
    "hash": "4ac27d9ef821916b92a19ec02496069358088582005b362b56a5303f2321296a"
   }
  }
 },
 "nbformat": 4,
 "nbformat_minor": 4
}
